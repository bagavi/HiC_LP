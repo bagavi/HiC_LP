{
 "cells": [
  {
   "cell_type": "code",
   "execution_count": 1,
   "metadata": {
    "collapsed": true
   },
   "outputs": [],
   "source": [
    "import math,csv, random, collections\n",
    "import numpy as np\n",
    "import pickle\n",
    "import seaborn as sns\n",
    "import matplotlib.patches as mpatches\n",
    "import random, string\n",
    "\n",
    "import imp, sys\n",
    "sys.path.insert(0, '../')\n",
    "import utils, algorithms\n",
    "import h5py, imp\n",
    "\n",
    "import matplotlib.pyplot as plt\n",
    "from IPython.display import display, HTML\n",
    "from multiprocessing import Pool\n",
    "from multiprocessing import Process, Queue\n",
    "imp.reload(utils)\n",
    "imp.reload(algorithms)\n",
    "        \n",
    "%matplotlib inline\n",
    "plt.rcParams['figure.figsize'] = (10.0, 8.0) # set default size of plots\n",
    "plt.rcParams['image.interpolation'] = 'nearest'\n",
    "plt.rcParams['image.cmap'] = 'gray'\n",
    "sns.set_style('dark')\n",
    "color_p = sns.color_palette(\"hls\", 10*2)"
   ]
  },
  {
   "cell_type": "code",
   "execution_count": 2,
   "metadata": {
    "collapsed": true,
    "scrolled": true
   },
   "outputs": [],
   "source": [
    "def BP(M, n_steps, filename):\n",
    "    n = M.shape[0]\n",
    "    BP_matrix = np.zeros((2, n, n)) #BP_matrix[i] will store the state of BP in step i\n",
    "    BP_matrix[0] = M.copy() #First state of BP_matrix is the data matrix itself\n",
    "    accuracy = np.zeros(n_steps) #Stores accuracy after each step\n",
    "    \n",
    "    #True answer\n",
    "    true_answer = np.zeros((n,2))\n",
    "    true_answer[:,0] = np.roll(np.arange(n),1)\n",
    "    true_answer[:,1] = np.roll(np.arange(n),-1)\n",
    "    true_answer = true_answer.astype(int)\n",
    "\n",
    "    for l in range(1, n_steps):\n",
    "        for i in range(n):\n",
    "            for j in range(n):\n",
    "                row = BP_matrix[(l-1)%2][:,i].copy()\n",
    "                row[j] = np.inf\n",
    "                BP_matrix[l%2][i][j] = M[i][j] - np.partition(row, 1)[1]\n",
    "                \n",
    "        BP_matrix[l%2][np.diag_indices_from(BP_matrix[l%2])] = np.inf\n",
    "        \n",
    "        M_final = BP_matrix[l%2]\n",
    "        M_final[np.diag_indices_from(M_final)] = np.inf\n",
    "        answer = M_final.argsort(axis=1)[:,:2]\n",
    "        answer.sort(axis=1)\n",
    "        answer[0] = answer[0][::-1]\n",
    "        answer[-1] = answer[-1][::-1]\n",
    "        accuracy[l] = np.mean(answer==true_answer)\n",
    "        if accuracy[l] == 1:\n",
    "            accuracy[l:] = accuracy[l]\n",
    "            break\n",
    "        if l > 50 and abs(np.mean(accuracy[l-25:l]) - np.mean(accuracy[l-50:l-25])) < 0.001: \n",
    "            accuracy[l:] = np.mean(accuracy[l-25:l])\n",
    "            break\n",
    "    output = ','.join(np.array(accuracy[1:]).astype(str))\n",
    "    output = str(n)+\",\"+str(mu)+\",\"+str(l)+\",\"+output\n",
    "    fd = open(filename,'a')\n",
    "    fd.write(output+\"\\n\")\n",
    "    fd.close()\n",
    "\n",
    "\n",
    "def LP(data, file):\n",
    "    n = data.shape[0]\n",
    "    model , t      = algorithms.Solve_LP(data)\n",
    "    answer         = np.array(model.X).reshape(n,n)\n",
    "    correct_answer = algorithms.correct_data_answer(data,k=1)\n",
    "           \n",
    "    error = (np.where(correct_answer-answer!=0)[0].shape[0]+0.0)/(2*n)\n",
    "    fp = (np.where(correct_answer-answer==-1)[0].shape[0]+0.0)/(2*n)\n",
    "    point5 = (np.where(answer==0.5)[0].shape[0]+0.0)/(2*n)\n",
    "    if file != None:\n",
    "        fd = open(file,'a')\n",
    "        fd.write(', '.join([str(n), str(mu), str(error), str(fp), str(point5),\"\\n\"]))\n",
    "        fd.close()\n",
    "    "
   ]
  },
  {
   "cell_type": "code",
   "execution_count": 4,
   "metadata": {},
   "outputs": [
    {
     "name": "stdout",
     "output_type": "stream",
     "text": [
      "it =  5.25652176976\n",
      "mg =  6.43789807887\n",
      "sg =  7.4338443777\n",
      "[ 4.20521742  4.50559009  4.80596276  4.99369568  5.06878885  5.10633543\n",
      "  5.14388202  5.21897519  5.29406835  5.36916152  5.40670811  5.44425469\n",
      "  5.51934786  5.51934786  5.63198761  5.70708078  5.74462736  5.85726711\n",
      "  5.96990687  6.00745345  6.08254662  6.19518637  6.30782612  6.30782612]\n",
      "24\n"
     ]
    }
   ],
   "source": [
    "n = 1000\n",
    "it_limit = np.sqrt(4*np.log(n))\n",
    "mg_limit = np.sqrt(6*np.log(n))\n",
    "sg_limit = np.sqrt(8*np.log(n))\n",
    "mu_array1 = np.linspace(it_limit*.8,it_limit*1.2,8)\n",
    "mu_array2 = np.linspace(it_limit*.95,it_limit*1.05,8)\n",
    "mu_array3 = np.linspace(it_limit*1.05,it_limit*1.2,8)\n",
    "mu_array = np.concatenate([mu_array1, mu_array2, mu_array3])\n",
    "mu_array.sort()\n",
    "# M = M.astype(int)\n",
    "print \"it = \", it_limit\n",
    "print \"mg = \", mg_limit\n",
    "print \"sg = \", sg_limit\n",
    "print mu_array\n",
    "print mu_array.shape[0]\n",
    "no_exp = 50"
   ]
  },
  {
   "cell_type": "code",
   "execution_count": null,
   "metadata": {
    "scrolled": true
   },
   "outputs": [
    {
     "name": "stdout",
     "output_type": "stream",
     "text": [
      "\n",
      "mu =  4.20521741581 Experiment = \n",
      "  1   2   3   4   5   6   7   8   9   10   11   12   13   14   15   16   17   18   19   20   21   22   23   24   25 \n",
      "Joining Process\n",
      "0 \t"
     ]
    }
   ],
   "source": [
    "filenameBP = 'data/2BP_'+str(n)+'.csv'   \n",
    "filenameLP = 'data/2LP_'+str(n)+'.csv'   \n",
    "\n",
    "for mu in mu_array:\n",
    "    print \"\\nmu = \", mu, \"Experiment = \"\n",
    "    no_process = 32\n",
    "    pool = Pool(processes=no_process)  \n",
    "    processes = []\n",
    "    for exp in range(no_exp/2):\n",
    "        print \" \", exp+1,\n",
    "#         A = np.zeros([n,n])\n",
    "#         A[utils.kth_diag_indices(A,1)] = mu\n",
    "#         A[utils.kth_diag_indices(A,-1)] = mu\n",
    "        M = algorithms.Gaussian_matrix(mu=mu, n =n)\n",
    "        #BP\n",
    "        M[np.diag_indices_from(M)]= -np.inf\n",
    "        args = (-M, n*10, filenameBP)\n",
    "        p = Process(target = BP, args = args)\n",
    "        p.start()\n",
    "        processes.append(p)\n",
    "        \n",
    "        #LP\n",
    "        M[np.diag_indices_from(M)]= 0\n",
    "        args = (M, filenameLP)\n",
    "        p = Process(target = LP, args = args)\n",
    "        p.start()\n",
    "        processes.append(p)\n",
    "\n",
    "    print  \"\\nJoining Process\"\n",
    "    for j, p in enumerate(processes):\n",
    "        print j, \"\\t\",\n",
    "        p.join()\n"
   ]
  },
  {
   "cell_type": "code",
   "execution_count": null,
   "metadata": {
    "collapsed": true
   },
   "outputs": [],
   "source": [
    "filenameBP = 'data/BP_'+str(n)+'.csv'   \n",
    "filenameLP = 'data/LP_'+str(n)+'.csv'   \n",
    "\n",
    "for mu in mu_array:\n",
    "    print \"\\nmu = \", mu, \"Experiment = \"\n",
    "    no_process = 32\n",
    "    pool = Pool(processes=no_process)  \n",
    "    processes = []\n",
    "    for exp in range(no_exp/2, no_exp):\n",
    "        print \" \", exp+1,\n",
    "        M = M_list[exp]+np.eye(n)*mu\n",
    "        #BP\n",
    "        M[np.diag_indices_from(M)]= -np.inf\n",
    "        args = (-M, n*10, filenameBP)\n",
    "        p = Process(target = BP, args = args)\n",
    "        p.start()\n",
    "        processes.append(p)\n",
    "        \n",
    "        #LP\n",
    "        M[np.diag_indices_from(M)]= 0\n",
    "        args = (M, filenameLP)\n",
    "        p = Process(target = LP, args = args)\n",
    "        p.start()\n",
    "        processes.append(p)\n",
    "\n",
    "    print  \"\\nJoining Process\"\n",
    "    for j, p in enumerate(processes):\n",
    "        print j, \"\\t\",\n",
    "        p.join()\n"
   ]
  },
  {
   "cell_type": "code",
   "execution_count": null,
   "metadata": {
    "collapsed": true
   },
   "outputs": [],
   "source": []
  }
 ],
 "metadata": {
  "kernelspec": {
   "display_name": "Python 2",
   "language": "python",
   "name": "python2"
  },
  "language_info": {
   "codemirror_mode": {
    "name": "ipython",
    "version": 2
   },
   "file_extension": ".py",
   "mimetype": "text/x-python",
   "name": "python",
   "nbconvert_exporter": "python",
   "pygments_lexer": "ipython2",
   "version": "2.7.6"
  }
 },
 "nbformat": 4,
 "nbformat_minor": 2
}
