{
 "cells": [
  {
   "cell_type": "code",
   "execution_count": 6,
   "metadata": {
    "collapsed": true
   },
   "outputs": [],
   "source": [
    "import visualize\n",
    "%matplotlib inline\n",
    "folder = 'real_dataset_experiments/Aedes_aegypti/HIC001/error_rates/'"
   ]
  },
  {
   "cell_type": "code",
   "execution_count": 9,
   "metadata": {
    "scrolled": false
   },
   "outputs": [
    {
     "ename": "IOError",
     "evalue": "[Errno 2] No such file or directory: 'real_dataset_experiments/Aedes_aegypti/HIC001/error_rates/variable_LP_stricter_greedy1.csv'",
     "output_type": "error",
     "traceback": [
      "\u001b[0;31m---------------------------------------------------------------------------\u001b[0m",
      "\u001b[0;31mIOError\u001b[0m                                   Traceback (most recent call last)",
      "\u001b[0;32m<ipython-input-9-b809113473d3>\u001b[0m in \u001b[0;36m<module>\u001b[0;34m()\u001b[0m\n\u001b[1;32m      1\u001b[0m \u001b[0;32mfor\u001b[0m \u001b[0mchromosome\u001b[0m \u001b[0;32min\u001b[0m \u001b[0mrange\u001b[0m\u001b[0;34m(\u001b[0m\u001b[0;36m1\u001b[0m\u001b[0;34m,\u001b[0m\u001b[0;36m4\u001b[0m\u001b[0;34m)\u001b[0m\u001b[0;34m:\u001b[0m\u001b[0;34m\u001b[0m\u001b[0m\n\u001b[0;32m----> 2\u001b[0;31m     \u001b[0mvisualize\u001b[0m\u001b[0;34m.\u001b[0m\u001b[0mplotvariable\u001b[0m\u001b[0;34m(\u001b[0m\u001b[0mfolder\u001b[0m\u001b[0;34m,\u001b[0m \u001b[0mstr\u001b[0m\u001b[0;34m(\u001b[0m\u001b[0mchromosome\u001b[0m\u001b[0;34m)\u001b[0m\u001b[0;34m)\u001b[0m\u001b[0;34m\u001b[0m\u001b[0m\n\u001b[0m",
      "\u001b[0;32m/data/vivek/HIC_project/AllPaths/code/visualize.pyc\u001b[0m in \u001b[0;36mplotvariable\u001b[0;34m(folder, chromosome)\u001b[0m\n\u001b[1;32m     77\u001b[0m     \u001b[0mLP_greedy_file\u001b[0m     \u001b[0;34m=\u001b[0m \u001b[0mfolder\u001b[0m\u001b[0;34m+\u001b[0m\u001b[0;34m\"variable_LP_stricter_greedy\"\u001b[0m\u001b[0;34m+\u001b[0m\u001b[0mchromosome\u001b[0m\u001b[0;34m+\u001b[0m\u001b[0;34m\".csv\"\u001b[0m\u001b[0;34m\u001b[0m\u001b[0m\n\u001b[1;32m     78\u001b[0m     \u001b[0mBP_greedy_file\u001b[0m     \u001b[0;34m=\u001b[0m \u001b[0mfolder\u001b[0m\u001b[0;34m+\u001b[0m\u001b[0;34m\"variable_BP_stricter_greedy\"\u001b[0m\u001b[0;34m+\u001b[0m\u001b[0mchromosome\u001b[0m\u001b[0;34m+\u001b[0m\u001b[0;34m\".csv\"\u001b[0m\u001b[0;34m\u001b[0m\u001b[0m\n\u001b[0;32m---> 79\u001b[0;31m     \u001b[0mplot\u001b[0m\u001b[0;34m(\u001b[0m\u001b[0msimple_greedy_file\u001b[0m\u001b[0;34m,\u001b[0m \u001b[0mmerge_greedy_file\u001b[0m\u001b[0;34m,\u001b[0m \u001b[0mLP_greedy_file\u001b[0m\u001b[0;34m,\u001b[0m \u001b[0mBP_greedy_file\u001b[0m\u001b[0;34m)\u001b[0m\u001b[0;34m\u001b[0m\u001b[0m\n\u001b[0m\u001b[1;32m     80\u001b[0m     \u001b[0mplt\u001b[0m\u001b[0;34m.\u001b[0m\u001b[0mtitle\u001b[0m\u001b[0;34m(\u001b[0m\u001b[0;34m\"Variable contigs of chromosome \"\u001b[0m\u001b[0;34m+\u001b[0m\u001b[0mchromosome\u001b[0m\u001b[0;34m)\u001b[0m\u001b[0;34m\u001b[0m\u001b[0m\n\u001b[1;32m     81\u001b[0m     \u001b[0mplt\u001b[0m\u001b[0;34m.\u001b[0m\u001b[0mshow\u001b[0m\u001b[0;34m(\u001b[0m\u001b[0;34m)\u001b[0m\u001b[0;34m\u001b[0m\u001b[0m\n",
      "\u001b[0;32m/data/vivek/HIC_project/AllPaths/code/visualize.pyc\u001b[0m in \u001b[0;36mplot\u001b[0;34m(simple_greedy_file, merge_greedy_file, lp_greedy_file, bp_greedy_file)\u001b[0m\n\u001b[1;32m     35\u001b[0m     \u001b[0msg_sf_array\u001b[0m\u001b[0;34m,\u001b[0m \u001b[0msg_error_array\u001b[0m\u001b[0;34m,\u001b[0m \u001b[0msg_fp_array\u001b[0m \u001b[0;34m=\u001b[0m \u001b[0mreturn_results\u001b[0m\u001b[0;34m(\u001b[0m\u001b[0msimple_greedy_file\u001b[0m\u001b[0;34m)\u001b[0m\u001b[0;34m\u001b[0m\u001b[0m\n\u001b[1;32m     36\u001b[0m     \u001b[0mmg_sf_array\u001b[0m\u001b[0;34m,\u001b[0m \u001b[0mmg_error_array\u001b[0m\u001b[0;34m,\u001b[0m \u001b[0mmg_fp_array\u001b[0m \u001b[0;34m=\u001b[0m \u001b[0mreturn_results\u001b[0m\u001b[0;34m(\u001b[0m\u001b[0mmerge_greedy_file\u001b[0m\u001b[0;34m)\u001b[0m\u001b[0;34m\u001b[0m\u001b[0m\n\u001b[0;32m---> 37\u001b[0;31m     \u001b[0mlp_sf_array\u001b[0m\u001b[0;34m,\u001b[0m \u001b[0mlp_error_array\u001b[0m\u001b[0;34m,\u001b[0m \u001b[0mlp_fp_array\u001b[0m \u001b[0;34m=\u001b[0m \u001b[0mreturn_results\u001b[0m\u001b[0;34m(\u001b[0m\u001b[0mlp_greedy_file\u001b[0m\u001b[0;34m)\u001b[0m\u001b[0;34m\u001b[0m\u001b[0m\n\u001b[0m\u001b[1;32m     38\u001b[0m     \u001b[0mbp_sf_array\u001b[0m\u001b[0;34m,\u001b[0m \u001b[0mbp_error_array\u001b[0m\u001b[0;34m,\u001b[0m \u001b[0mbp_fp_array\u001b[0m \u001b[0;34m=\u001b[0m \u001b[0mreturn_results\u001b[0m\u001b[0;34m(\u001b[0m\u001b[0mbp_greedy_file\u001b[0m\u001b[0;34m)\u001b[0m\u001b[0;34m\u001b[0m\u001b[0m\n\u001b[1;32m     39\u001b[0m \u001b[0;34m\u001b[0m\u001b[0m\n",
      "\u001b[0;32m/data/vivek/HIC_project/AllPaths/code/visualize.pyc\u001b[0m in \u001b[0;36mreturn_results\u001b[0;34m(filepath)\u001b[0m\n\u001b[1;32m      9\u001b[0m \u001b[0;34m\u001b[0m\u001b[0m\n\u001b[1;32m     10\u001b[0m \u001b[0;32mdef\u001b[0m \u001b[0mreturn_results\u001b[0m\u001b[0;34m(\u001b[0m\u001b[0mfilepath\u001b[0m\u001b[0;34m)\u001b[0m\u001b[0;34m:\u001b[0m\u001b[0;34m\u001b[0m\u001b[0m\n\u001b[0;32m---> 11\u001b[0;31m     \u001b[0mf\u001b[0m \u001b[0;34m=\u001b[0m \u001b[0mopen\u001b[0m\u001b[0;34m(\u001b[0m\u001b[0mfilepath\u001b[0m\u001b[0;34m,\u001b[0m \u001b[0;34m'rb'\u001b[0m\u001b[0;34m)\u001b[0m\u001b[0;34m\u001b[0m\u001b[0m\n\u001b[0m\u001b[1;32m     12\u001b[0m     \u001b[0mreader\u001b[0m \u001b[0;34m=\u001b[0m \u001b[0mcsv\u001b[0m\u001b[0;34m.\u001b[0m\u001b[0mreader\u001b[0m\u001b[0;34m(\u001b[0m\u001b[0mf\u001b[0m\u001b[0;34m)\u001b[0m\u001b[0;34m\u001b[0m\u001b[0m\n\u001b[1;32m     13\u001b[0m     \u001b[0mresults\u001b[0m \u001b[0;34m=\u001b[0m \u001b[0;34m[\u001b[0m\u001b[0;34m]\u001b[0m\u001b[0;34m\u001b[0m\u001b[0m\n",
      "\u001b[0;31mIOError\u001b[0m: [Errno 2] No such file or directory: 'real_dataset_experiments/Aedes_aegypti/HIC001/error_rates/variable_LP_stricter_greedy1.csv'"
     ]
    }
   ],
   "source": [
    "for chromosome in range(1,4):\n",
    "    visualize.plotvariable(folder, str(chromosome))"
   ]
  },
  {
   "cell_type": "code",
   "execution_count": 5,
   "metadata": {},
   "outputs": [
    {
     "ename": "IOError",
     "evalue": "[Errno 2] No such file or directory: 'data/Aedes_aegypti/HIC001/error_rates/100000_simple_greedy_chr1.csv'",
     "output_type": "error",
     "traceback": [
      "\u001b[0;31m---------------------------------------------------------------------------\u001b[0m",
      "\u001b[0;31mIOError\u001b[0m                                   Traceback (most recent call last)",
      "\u001b[0;32m<ipython-input-5-5df70c18e801>\u001b[0m in \u001b[0;36m<module>\u001b[0;34m()\u001b[0m\n\u001b[1;32m      1\u001b[0m \u001b[0;32mfor\u001b[0m \u001b[0mchromosome\u001b[0m \u001b[0;32min\u001b[0m \u001b[0mrange\u001b[0m\u001b[0;34m(\u001b[0m\u001b[0;36m1\u001b[0m\u001b[0;34m,\u001b[0m\u001b[0;36m4\u001b[0m\u001b[0;34m)\u001b[0m\u001b[0;34m:\u001b[0m\u001b[0;34m\u001b[0m\u001b[0m\n\u001b[0;32m----> 2\u001b[0;31m     \u001b[0mvisualize\u001b[0m\u001b[0;34m.\u001b[0m\u001b[0mplot_100k\u001b[0m\u001b[0;34m(\u001b[0m\u001b[0mfolder\u001b[0m\u001b[0;34m,\u001b[0m \u001b[0mstr\u001b[0m\u001b[0;34m(\u001b[0m\u001b[0mchromosome\u001b[0m\u001b[0;34m)\u001b[0m\u001b[0;34m)\u001b[0m\u001b[0;34m\u001b[0m\u001b[0m\n\u001b[0m",
      "\u001b[0;32m/data/vivek/HIC_project/AllPaths/code/visualize.pyc\u001b[0m in \u001b[0;36mplot_100k\u001b[0;34m(folder, chromosome)\u001b[0m\n\u001b[1;32m     86\u001b[0m     \u001b[0mLP_greedy_file\u001b[0m     \u001b[0;34m=\u001b[0m \u001b[0mfolder\u001b[0m\u001b[0;34m+\u001b[0m\u001b[0;34m\"100000_LP_greedy_chr\"\u001b[0m\u001b[0;34m+\u001b[0m\u001b[0mchromosome\u001b[0m\u001b[0;34m+\u001b[0m\u001b[0;34m\".csv\"\u001b[0m\u001b[0;34m\u001b[0m\u001b[0m\n\u001b[1;32m     87\u001b[0m     \u001b[0mBP_greedy_file\u001b[0m     \u001b[0;34m=\u001b[0m \u001b[0mfolder\u001b[0m\u001b[0;34m+\u001b[0m\u001b[0;34m\"100000_BP_greedy_chr\"\u001b[0m\u001b[0;34m+\u001b[0m\u001b[0mchromosome\u001b[0m\u001b[0;34m+\u001b[0m\u001b[0;34m\".csv\"\u001b[0m\u001b[0;34m\u001b[0m\u001b[0m\n\u001b[0;32m---> 88\u001b[0;31m     \u001b[0mplot\u001b[0m\u001b[0;34m(\u001b[0m\u001b[0msimple_greedy_file\u001b[0m\u001b[0;34m,\u001b[0m \u001b[0mmerge_greedy_file\u001b[0m\u001b[0;34m,\u001b[0m \u001b[0mLP_greedy_file\u001b[0m\u001b[0;34m,\u001b[0m \u001b[0mBP_greedy_file\u001b[0m\u001b[0;34m)\u001b[0m\u001b[0;34m\u001b[0m\u001b[0m\n\u001b[0m\u001b[1;32m     89\u001b[0m     \u001b[0mplt\u001b[0m\u001b[0;34m.\u001b[0m\u001b[0mtitle\u001b[0m\u001b[0;34m(\u001b[0m\u001b[0;34m\"Variable contigs of chromosome \"\u001b[0m\u001b[0;34m+\u001b[0m\u001b[0mchromosome\u001b[0m\u001b[0;34m)\u001b[0m\u001b[0;34m\u001b[0m\u001b[0m\n\u001b[1;32m     90\u001b[0m     \u001b[0mplt\u001b[0m\u001b[0;34m.\u001b[0m\u001b[0mshow\u001b[0m\u001b[0;34m(\u001b[0m\u001b[0;34m)\u001b[0m\u001b[0;34m\u001b[0m\u001b[0m\n",
      "\u001b[0;32m/data/vivek/HIC_project/AllPaths/code/visualize.pyc\u001b[0m in \u001b[0;36mplot\u001b[0;34m(simple_greedy_file, merge_greedy_file, lp_greedy_file, bp_greedy_file)\u001b[0m\n\u001b[1;32m     33\u001b[0m \u001b[0;34m\u001b[0m\u001b[0m\n\u001b[1;32m     34\u001b[0m \u001b[0;32mdef\u001b[0m \u001b[0mplot\u001b[0m\u001b[0;34m(\u001b[0m\u001b[0msimple_greedy_file\u001b[0m\u001b[0;34m,\u001b[0m \u001b[0mmerge_greedy_file\u001b[0m\u001b[0;34m,\u001b[0m \u001b[0mlp_greedy_file\u001b[0m\u001b[0;34m,\u001b[0m \u001b[0mbp_greedy_file\u001b[0m\u001b[0;34m)\u001b[0m\u001b[0;34m:\u001b[0m\u001b[0;34m\u001b[0m\u001b[0m\n\u001b[0;32m---> 35\u001b[0;31m     \u001b[0msg_sf_array\u001b[0m\u001b[0;34m,\u001b[0m \u001b[0msg_error_array\u001b[0m\u001b[0;34m,\u001b[0m \u001b[0msg_fp_array\u001b[0m \u001b[0;34m=\u001b[0m \u001b[0mreturn_results\u001b[0m\u001b[0;34m(\u001b[0m\u001b[0msimple_greedy_file\u001b[0m\u001b[0;34m)\u001b[0m\u001b[0;34m\u001b[0m\u001b[0m\n\u001b[0m\u001b[1;32m     36\u001b[0m     \u001b[0mmg_sf_array\u001b[0m\u001b[0;34m,\u001b[0m \u001b[0mmg_error_array\u001b[0m\u001b[0;34m,\u001b[0m \u001b[0mmg_fp_array\u001b[0m \u001b[0;34m=\u001b[0m \u001b[0mreturn_results\u001b[0m\u001b[0;34m(\u001b[0m\u001b[0mmerge_greedy_file\u001b[0m\u001b[0;34m)\u001b[0m\u001b[0;34m\u001b[0m\u001b[0m\n\u001b[1;32m     37\u001b[0m     \u001b[0mlp_sf_array\u001b[0m\u001b[0;34m,\u001b[0m \u001b[0mlp_error_array\u001b[0m\u001b[0;34m,\u001b[0m \u001b[0mlp_fp_array\u001b[0m \u001b[0;34m=\u001b[0m \u001b[0mreturn_results\u001b[0m\u001b[0;34m(\u001b[0m\u001b[0mlp_greedy_file\u001b[0m\u001b[0;34m)\u001b[0m\u001b[0;34m\u001b[0m\u001b[0m\n",
      "\u001b[0;32m/data/vivek/HIC_project/AllPaths/code/visualize.pyc\u001b[0m in \u001b[0;36mreturn_results\u001b[0;34m(filepath)\u001b[0m\n\u001b[1;32m      9\u001b[0m \u001b[0;34m\u001b[0m\u001b[0m\n\u001b[1;32m     10\u001b[0m \u001b[0;32mdef\u001b[0m \u001b[0mreturn_results\u001b[0m\u001b[0;34m(\u001b[0m\u001b[0mfilepath\u001b[0m\u001b[0;34m)\u001b[0m\u001b[0;34m:\u001b[0m\u001b[0;34m\u001b[0m\u001b[0m\n\u001b[0;32m---> 11\u001b[0;31m     \u001b[0mf\u001b[0m \u001b[0;34m=\u001b[0m \u001b[0mopen\u001b[0m\u001b[0;34m(\u001b[0m\u001b[0mfilepath\u001b[0m\u001b[0;34m,\u001b[0m \u001b[0;34m'rb'\u001b[0m\u001b[0;34m)\u001b[0m\u001b[0;34m\u001b[0m\u001b[0m\n\u001b[0m\u001b[1;32m     12\u001b[0m     \u001b[0mreader\u001b[0m \u001b[0;34m=\u001b[0m \u001b[0mcsv\u001b[0m\u001b[0;34m.\u001b[0m\u001b[0mreader\u001b[0m\u001b[0;34m(\u001b[0m\u001b[0mf\u001b[0m\u001b[0;34m)\u001b[0m\u001b[0;34m\u001b[0m\u001b[0m\n\u001b[1;32m     13\u001b[0m     \u001b[0mresults\u001b[0m \u001b[0;34m=\u001b[0m \u001b[0;34m[\u001b[0m\u001b[0;34m]\u001b[0m\u001b[0;34m\u001b[0m\u001b[0m\n",
      "\u001b[0;31mIOError\u001b[0m: [Errno 2] No such file or directory: 'data/Aedes_aegypti/HIC001/error_rates/100000_simple_greedy_chr1.csv'"
     ]
    }
   ],
   "source": [
    "for chromosome in range(1,4):\n",
    "    visualize.plot_100k(folder, str(chromosome))"
   ]
  }
 ],
 "metadata": {
  "kernelspec": {
   "display_name": "Python 2",
   "language": "python",
   "name": "python2"
  },
  "language_info": {
   "codemirror_mode": {
    "name": "ipython",
    "version": 2
   },
   "file_extension": ".py",
   "mimetype": "text/x-python",
   "name": "python",
   "nbconvert_exporter": "python",
   "pygments_lexer": "ipython2",
   "version": "2.7.6"
  }
 },
 "nbformat": 4,
 "nbformat_minor": 1
}
